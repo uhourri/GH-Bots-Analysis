{
 "cells": [
  {
   "cell_type": "markdown",
   "id": "e356decb-4c5a-43a5-8c4c-606277a3c62f",
   "metadata": {},
   "source": [
    "This notebook aims to understand how Github bots work, see details in the next session"
   ]
  },
  {
   "cell_type": "markdown",
   "id": "338ef7e1-8443-4a43-aaeb-6ddd40552295",
   "metadata": {},
   "source": [
    "# Data Importing"
   ]
  },
  {
   "cell_type": "code",
   "execution_count": 9,
   "id": "0f78a7cb-d852-4110-87e1-be81624a7196",
   "metadata": {},
   "outputs": [],
   "source": [
    "!pip install -q pandas\n",
    "!pip install -q matplotlib\n",
    "!pip install -q seaborn\n"
   ]
  },
  {
   "cell_type": "code",
   "execution_count": 10,
   "id": "e37ce3f7-19bf-43e9-b6e8-7d648ccb1868",
   "metadata": {},
   "outputs": [],
   "source": [
    "import pandas as pd\n",
    "import numpy as np\n",
    "import matplotlib\n",
    "import matplotlib.pyplot\n",
    "import seaborn"
   ]
  },
  {
   "cell_type": "code",
   "execution_count": null,
   "id": "31f72cb4-dafd-4117-9d10-c46738bbcb27",
   "metadata": {},
   "outputs": [],
   "source": []
  }
 ],
 "metadata": {
  "kernelspec": {
   "display_name": "Python 3 (ipykernel)",
   "language": "python",
   "name": "python3"
  },
  "language_info": {
   "codemirror_mode": {
    "name": "ipython",
    "version": 3
   },
   "file_extension": ".py",
   "mimetype": "text/x-python",
   "name": "python",
   "nbconvert_exporter": "python",
   "pygments_lexer": "ipython3",
   "version": "3.11.5"
  }
 },
 "nbformat": 4,
 "nbformat_minor": 5
}
